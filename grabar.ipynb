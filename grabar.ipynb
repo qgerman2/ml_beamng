{
 "cells": [
  {
   "cell_type": "code",
   "execution_count": 2,
   "id": "a4665645-8a6f-4022-8dfc-c1267c4300d2",
   "metadata": {},
   "outputs": [
    {
     "data": {
      "text/plain": [
       "<beamngpy.beamng.BeamNGpy at 0x1ff17cc76a0>"
      ]
     },
     "execution_count": 2,
     "metadata": {},
     "output_type": "execute_result"
    }
   ],
   "source": [
    "## Iniciar BeamNG\n",
    "import time\n",
    "import keyboard\n",
    "from pathlib import Path\n",
    "from datetime import datetime\n",
    "from beamngpy import BeamNGpy, Scenario, Vehicle\n",
    "from beamngpy.sensors import Electrics\n",
    "\n",
    "def millis():\n",
    "    return time.time_ns() / 1000000\n",
    "oldtime = millis()\n",
    "curtime = 0\n",
    "rectime = 0\n",
    "step = 1/60 * 1000 #60 hz\n",
    "\n",
    "bng_path = \"C:\\Program Files (x86)\\Steam\\steamapps\\common\\BeamNG.drive\"\n",
    "bng = BeamNGpy('localhost', 64256, home=bng_path)\n",
    "bng.open()"
   ]
  },
  {
   "cell_type": "code",
   "execution_count": 3,
   "id": "bb0ac6dc-1846-41f7-83e7-1ea6d3a6fc53",
   "metadata": {},
   "outputs": [],
   "source": [
    "## Crear escenario\n",
    "scenario = Scenario('west_coast_usa', 'ml_beamng')\n",
    "vehicle = Vehicle('veh', model='pessima', licence='HOLA')\n",
    "electrics = Electrics()\n",
    "vehicle.attach_sensor(\"electrics\", electrics)\n",
    "scenario.add_vehicle(vehicle, pos=(-717, 101, 118), rot_quat=(0, 0, 0.3826834, 0.9238795))\n",
    "scenario.make(bng)\n",
    "bng.load_scenario(scenario)\n",
    "bng.start_scenario()\n",
    "vehicle.set_shift_mode(\"arcade\")"
   ]
  },
  {
   "cell_type": "code",
   "execution_count": 4,
   "id": "1021ec78-846d-4955-8590-4ea6e26d3d88",
   "metadata": {},
   "outputs": [
    {
     "name": "stdout",
     "output_type": "stream",
     "text": [
      "Grabando: automatico/11 20 2022 - 02 33 54.csv\n",
      "Grabado\n",
      "Fuera del loop\n"
     ]
    }
   ],
   "source": [
    "## Interfaz de grabación\n",
    "TECLA_GRABAR = 'A'\n",
    "TECLA_DETENER = 'S'\n",
    "TECLA_SALIR = 'D'\n",
    "CARPETA = \"automatico\"\n",
    "path = Path(CARPETA)\n",
    "path.mkdir(exist_ok=True)\n",
    "file = False\n",
    "\n",
    "def variables_sensor():\n",
    "    vehicle.poll_sensors()\n",
    "    s = \"time\"\n",
    "    for data in electrics.data.items():\n",
    "        if (data[0] == \"wheelThermals\"):\n",
    "            continue\n",
    "        s = s + \",\" + str(data[0])\n",
    "    return s\n",
    "\n",
    "def lecturas_sensor():\n",
    "    vehicle.poll_sensors()\n",
    "    s = \"\"\n",
    "    for i, data in enumerate(electrics.data.items()):\n",
    "        if (data[0] == \"wheelThermals\"):\n",
    "            continue\n",
    "        if (i > 0):\n",
    "            s = s + \",\"\n",
    "        s = s + str(data[1])\n",
    "    return s\n",
    "\n",
    "while True:\n",
    "    #manejar teclas\n",
    "    if (keyboard.is_pressed(TECLA_GRABAR)):\n",
    "        if (not file):\n",
    "            filename = CARPETA + \"/\" + datetime.now().strftime(\"%m %d %Y - %H %M %S\") + \".csv\"\n",
    "            file = open(filename, \"w\")\n",
    "            file.write(variables_sensor() + '\\n')\n",
    "            rectime = millis()\n",
    "            print(\"Grabando: \" + filename)\n",
    "    elif (keyboard.is_pressed(TECLA_DETENER)):\n",
    "        if file:\n",
    "            file.close()\n",
    "            file = False\n",
    "            print(\"Grabado\")\n",
    "    elif (keyboard.is_pressed(TECLA_SALIR)):\n",
    "        if file:\n",
    "            file.close()\n",
    "            file = False\n",
    "            print(\"Grabado\")\n",
    "        print(\"Fuera del loop\")\n",
    "        break\n",
    "    #leer sensores\n",
    "    curtime = millis()\n",
    "    if curtime > (oldtime + step):\n",
    "        oldtime = curtime\n",
    "        if file:\n",
    "            data = lecturas_sensor()\n",
    "            secs = (curtime - rectime) / 1000\n",
    "            file.write(str(secs) + \",\" + data + '\\n')"
   ]
  },
  {
   "cell_type": "code",
   "execution_count": null,
   "id": "cebc8f5e-d0b6-4691-87be-e45cdcabf97b",
   "metadata": {},
   "outputs": [],
   "source": []
  }
 ],
 "metadata": {
  "kernelspec": {
   "display_name": "Python 3 (ipykernel)",
   "language": "python",
   "name": "python3"
  },
  "language_info": {
   "codemirror_mode": {
    "name": "ipython",
    "version": 3
   },
   "file_extension": ".py",
   "mimetype": "text/x-python",
   "name": "python",
   "nbconvert_exporter": "python",
   "pygments_lexer": "ipython3",
   "version": "3.9.15"
  }
 },
 "nbformat": 4,
 "nbformat_minor": 5
}
